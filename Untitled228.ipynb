{
 "cells": [
  {
   "cell_type": "markdown",
   "id": "7a8d0830",
   "metadata": {},
   "source": [
    "# weather API"
   ]
  },
  {
   "cell_type": "markdown",
   "id": "108bf793",
   "metadata": {},
   "source": [
    "This code serves as a practical example of retrieving and displaying weather information through user interaction and API integration"
   ]
  },
  {
   "cell_type": "code",
   "execution_count": 1,
   "id": "da6e3b4c",
   "metadata": {},
   "outputs": [],
   "source": [
    "import requests"
   ]
  },
  {
   "cell_type": "code",
   "execution_count": 2,
   "id": "28faaa0c",
   "metadata": {},
   "outputs": [
    {
     "name": "stdout",
     "output_type": "stream",
     "text": [
      "enter city name : tanta\n",
      "weather in tanta is 24 C\n",
      "\n",
      "press any key to continue or \"E\" for Exit \ty\n",
      "enter city name : alexandria\n",
      "weather in alexandria is 25 C\n",
      "\n",
      "press any key to continue or \"E\" for Exit \tcairo\n",
      "enter city name : minia\n",
      "city is not found\n",
      "\n",
      "press any key to continue or \"E\" for Exit \te\n",
      "Exit\n"
     ]
    }
   ],
   "source": [
    "while True:\n",
    "    def weather_in_cities():\n",
    "        API_key=\"88c8dabab7e73a8742990f6704fe6040\"\n",
    "        city_name=input(\"enter city name : \")\n",
    "        url=\"https://api.openweathermap.org/data/2.5/weather?q={}&appid={}\".format(city_name,API_key)\n",
    "\n",
    "        response=requests.get(url)\n",
    "        if response.status_code !=200:\n",
    "            print(\"city is not found\\n\")\n",
    "        else:\n",
    "            data=response.json()\n",
    "            kelvin_temp=data['main']['temp']\n",
    "            celsius_temp = kelvin_temp - 273.15\n",
    "            print(\"weather in %s is %.0f C\\n\"%(city_name,celsius_temp))\n",
    "\n",
    "    weather_in_cities()\n",
    "    key=input('press any key to continue or \"E\" for Exit \\t')\n",
    "    if key.lower() ==\"e\":\n",
    "        print(\"Exit\")\n",
    "        break\n",
    "    else:\n",
    "        continue"
   ]
  },
  {
   "cell_type": "code",
   "execution_count": null,
   "id": "21606fa4",
   "metadata": {},
   "outputs": [],
   "source": []
  },
  {
   "cell_type": "code",
   "execution_count": null,
   "id": "51c0eeaa",
   "metadata": {},
   "outputs": [],
   "source": []
  }
 ],
 "metadata": {
  "kernelspec": {
   "display_name": "Python 3 (ipykernel)",
   "language": "python",
   "name": "python3"
  },
  "language_info": {
   "codemirror_mode": {
    "name": "ipython",
    "version": 3
   },
   "file_extension": ".py",
   "mimetype": "text/x-python",
   "name": "python",
   "nbconvert_exporter": "python",
   "pygments_lexer": "ipython3",
   "version": "3.10.9"
  }
 },
 "nbformat": 4,
 "nbformat_minor": 5
}
